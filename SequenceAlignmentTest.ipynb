{
 "cells": [
  {
   "cell_type": "code",
   "execution_count": 34,
   "metadata": {},
   "outputs": [],
   "source": [
    "# !pip install biopython"
   ]
  },
  {
   "cell_type": "code",
   "execution_count": 35,
   "metadata": {},
   "outputs": [],
   "source": [
    "from Bio.Seq import Seq\n",
    "from Bio import SeqIO\n",
    "from Bio import pairwise2\n",
    "import os"
   ]
  },
  {
   "cell_type": "code",
   "execution_count": 36,
   "metadata": {},
   "outputs": [],
   "source": [
    "# data path\n",
    "influenzaPath = \"./Bank/Influenza\"\n",
    "ebolaPath = \"./Bank/Zaire Ebola Virus\"\n",
    "testPath = \"./Bank/Test\"\n",
    "\n",
    "influenzaFileList = os.listdir(influenzaPath)\n",
    "ebolaFileList = os.listdir(ebolaPath)\n",
    "testFileList = os.listdir(testPath)\n",
    "influenzaSeq = []\n",
    "ebolaSeq = []\n",
    "testSeq =[]"
   ]
  },
  {
   "cell_type": "code",
   "execution_count": 37,
   "metadata": {},
   "outputs": [],
   "source": [
    "def fetchData(filePath, fileList):\n",
    "    seqList = []\n",
    "    for file in fileList:\n",
    "        for sequence in SeqIO.parse(filePath + \"/\" + file,\"fasta\"):\n",
    "            seqList.append(sequence)\n",
    "    return seqList"
   ]
  },
  {
   "cell_type": "code",
   "execution_count": 38,
   "metadata": {},
   "outputs": [],
   "source": [
    "# fetch data\n",
    "influenzaSeqList = fetchData(influenzaPath, influenzaFileList)\n",
    "ebolaSeqList = fetchData(ebolaPath, ebolaFileList)\n",
    "testSeqList = fetchData(testPath, testFileList)"
   ]
  },
  {
   "cell_type": "code",
   "execution_count": 39,
   "metadata": {},
   "outputs": [],
   "source": [
    "def localAlignment(testSeq, dataSeq):\n",
    "    bestPercentage = 0\n",
    "    bestSeqName = \"\"\n",
    "    for seq_data in dataSeq:\n",
    "        local_score = pairwise2.align.localms(testSeq.seq, seq_data.seq, 1, -1, -0.5, -0.1, score_only = True)\n",
    "        local_percentage = (local_score / len(seq_data.seq)) * 100\n",
    "\n",
    "        if local_percentage > bestPercentage:\n",
    "            bestPercentage = local_percentage\n",
    "            bestSeqName = seq_data.name\n",
    "            if local_percentage == 100:\n",
    "                return bestPercentage, bestSeqName\n",
    "                \n",
    "    return bestPercentage, bestSeqName"
   ]
  },
  {
   "cell_type": "code",
   "execution_count": 40,
   "metadata": {},
   "outputs": [],
   "source": [
    "def determineVerdict(virus1, percentage1, seqName1, virus2, percentage2, seqName2):\n",
    "    print(f\"Virus name: {virus1}\")\n",
    "    print(f\"Best percentage: {percentage1}\")\n",
    "    print(f\"Best sequence name: {seqName1}\")\n",
    "    print(\"\")\n",
    "    print(f\"Virus name: {virus2}\")\n",
    "    print(f\"Best percentage: {percentage2}\")\n",
    "    print(f\"Best sequence name: {seqName2}\")\n",
    "    print(\"\")\n",
    "\n",
    "    if percentage1 < 50 and percentage2 < 50:\n",
    "        print(\"Both sequence are not quite convergent! It is either not match to both virus or please provide a more complete genome!\")\n",
    "    elif percentage1 == percentage2:\n",
    "        print(f\"The sequence alignment result for virus {virus1} and {virus2} is exactly the same with percentage of {percentage1}\")\n",
    "    elif percentage1 == 100:\n",
    "        print(f\"Perfect match for {virus1} is found! it is {seqName1} with percentage of {percentage1}!\")\n",
    "    elif percentage2 == 100:\n",
    "        print(f\"Perfect match for {virus2} is found! it is {seqName2} with percentage of {percentage2}!\")\n",
    "    elif percentage1 > percentage2:\n",
    "        print(f\"Sequence alignment result of {virus1} is better than {virus2} with percentage of {percentage1}\")\n",
    "    else:\n",
    "        print(f\"Sequence alignment result of {virus2} is better than {virus1} with percentage of {percentage2}\")\n",
    "\n",
    "    print(\"\\n\\n\\n-----------------------------------------\\n\")\n"
   ]
  },
  {
   "cell_type": "code",
   "execution_count": 41,
   "metadata": {},
   "outputs": [
    {
     "name": "stdout",
     "output_type": "stream",
     "text": [
      "analyzing file: ebolatest.fna\n",
      "Verdict:\n",
      "Virus name: influenza A Virus\n",
      "Best percentage: 60.570749108203536\n",
      "Best sequence name: NC_026428.1\n",
      "\n",
      "Virus name: Zaire Ebola Virus\n",
      "Best percentage: 95.37475605253437\n",
      "Best sequence name: NC_002549.1\n",
      "\n",
      "Sequence alignment result of Zaire Ebola Virus is better than influenza A Virus with percentage of 95.37475605253437\n",
      "\n",
      "\n",
      "\n",
      "-----------------------------------------\n",
      "\n",
      "analyzing file: Influenza.fna\n",
      "Verdict:\n",
      "Virus name: influenza A Virus\n",
      "Best percentage: 100.0\n",
      "Best sequence name: NC_026438.1\n",
      "\n",
      "Virus name: Zaire Ebola Virus\n",
      "Best percentage: 7.103222743815839\n",
      "Best sequence name: NC_002549.1\n",
      "\n",
      "Perfect match for influenza A Virus is found! it is NC_026438.1 with percentage of 100.0!\n",
      "\n",
      "\n",
      "\n",
      "-----------------------------------------\n",
      "\n",
      "analyzing file: Zaire ebolavirus.fna\n",
      "Verdict:\n",
      "Virus name: influenza A Virus\n",
      "Best percentage: 60.67052023121241\n",
      "Best sequence name: NC_007364.1\n",
      "\n",
      "Virus name: Zaire Ebola Virus\n",
      "Best percentage: 100.0\n",
      "Best sequence name: NC_002549.1\n",
      "\n",
      "Perfect match for Zaire Ebola Virus is found! it is NC_002549.1 with percentage of 100.0!\n",
      "\n",
      "\n",
      "\n",
      "-----------------------------------------\n",
      "\n"
     ]
    }
   ],
   "source": [
    "for i, seq in enumerate(testSeqList):\n",
    "    print(f\"analyzing file: {testFileList[i]}\")\n",
    "    \n",
    "    bestInfluenzaPercentage, bestInfluenzaSeqName = localAlignment(seq, influenzaSeqList)\n",
    "    bestEbolaPercentage, bestEbolaSeqName = localAlignment(seq, ebolaSeqList)\n",
    "\n",
    "    print(\"Verdict:\")\n",
    "    determineVerdict(\"influenza A Virus\", bestInfluenzaPercentage, bestInfluenzaSeqName, \"Zaire Ebola Virus\", bestEbolaPercentage, bestEbolaSeqName)"
   ]
  }
 ],
 "metadata": {
  "kernelspec": {
   "display_name": "Python 3",
   "language": "python",
   "name": "python3"
  },
  "language_info": {
   "codemirror_mode": {
    "name": "ipython",
    "version": 3
   },
   "file_extension": ".py",
   "mimetype": "text/x-python",
   "name": "python",
   "nbconvert_exporter": "python",
   "pygments_lexer": "ipython3",
   "version": "3.10.11"
  },
  "orig_nbformat": 4
 },
 "nbformat": 4,
 "nbformat_minor": 2
}
